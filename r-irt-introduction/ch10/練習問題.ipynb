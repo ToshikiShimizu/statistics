{
 "cells": [
  {
   "cell_type": "code",
   "execution_count": 1,
   "metadata": {},
   "outputs": [],
   "source": [
    "# 10.3"
   ]
  },
  {
   "cell_type": "code",
   "execution_count": 2,
   "metadata": {},
   "outputs": [],
   "source": [
    "import numpy as np"
   ]
  },
  {
   "cell_type": "code",
   "execution_count": 46,
   "metadata": {},
   "outputs": [],
   "source": [
    "d = 0.01\n",
    "x = np.arange(-3,3+d, d)"
   ]
  },
  {
   "cell_type": "code",
   "execution_count": 56,
   "metadata": {},
   "outputs": [
    {
     "data": {
      "text/plain": [
       "601"
      ]
     },
     "execution_count": 56,
     "metadata": {},
     "output_type": "execute_result"
    }
   ],
   "source": [
    "len(x)"
   ]
  },
  {
   "cell_type": "code",
   "execution_count": 57,
   "metadata": {},
   "outputs": [],
   "source": [
    "bunshi = np.array([np.zeros_like(x),x.copy(),x.copy(),x.copy()])"
   ]
  },
  {
   "cell_type": "code",
   "execution_count": 79,
   "metadata": {},
   "outputs": [],
   "source": [
    "a=1.5"
   ]
  },
  {
   "cell_type": "code",
   "execution_count": 80,
   "metadata": {},
   "outputs": [],
   "source": [
    "bunshi[0] -= 0\n",
    "bunshi[1] -= -1.5\n",
    "bunshi[2] -= 0\n",
    "bunshi[3] -= 1"
   ]
  },
  {
   "cell_type": "code",
   "execution_count": 81,
   "metadata": {},
   "outputs": [
    {
     "data": {
      "text/plain": [
       "array([[ 1.00000000e+00,  1.00000000e+00,  1.00000000e+00, ...,\n",
       "         1.00000000e+00,  1.00000000e+00,  1.00000000e+00],\n",
       "       [ 1.72313016e+00,  1.72537266e+00,  1.72763769e+00, ...,\n",
       "         8.97346727e+01,  9.06214459e+01,  9.15171313e+01],\n",
       "       [ 1.11089965e-02,  1.13334132e-02,  1.15623633e-02, ...,\n",
       "         1.73714806e+03,  1.77224078e+03,  1.80804241e+03],\n",
       "       [-9.99796532e-01, -9.99790335e-01, -9.99783950e-01, ...,\n",
       "         1.25807169e+04,  1.29638872e+04,  1.33587268e+04]])"
      ]
     },
     "execution_count": 81,
     "metadata": {},
     "output_type": "execute_result"
    }
   ],
   "source": [
    "bunshi"
   ]
  },
  {
   "cell_type": "code",
   "execution_count": 82,
   "metadata": {},
   "outputs": [],
   "source": [
    "for i in range(2,4):\n",
    "    bunshi[i] += bunshi[i-1]"
   ]
  },
  {
   "cell_type": "code",
   "execution_count": 83,
   "metadata": {},
   "outputs": [
    {
     "data": {
      "text/plain": [
       "array([[1.00000000e+00, 1.00000000e+00, 1.00000000e+00, ...,\n",
       "        1.00000000e+00, 1.00000000e+00, 1.00000000e+00],\n",
       "       [1.72313016e+00, 1.72537266e+00, 1.72763769e+00, ...,\n",
       "        8.97346727e+01, 9.06214459e+01, 9.15171313e+01],\n",
       "       [1.73423916e+00, 1.73670607e+00, 1.73920005e+00, ...,\n",
       "        1.82688273e+03, 1.86286222e+03, 1.89955955e+03],\n",
       "       [7.34442625e-01, 7.36915734e-01, 7.39416102e-01, ...,\n",
       "        1.44075996e+04, 1.48267495e+04, 1.52582864e+04]])"
      ]
     },
     "execution_count": 83,
     "metadata": {},
     "output_type": "execute_result"
    }
   ],
   "source": [
    "bunshi"
   ]
  },
  {
   "cell_type": "code",
   "execution_count": 84,
   "metadata": {},
   "outputs": [
    {
     "name": "stderr",
     "output_type": "stream",
     "text": [
      "/Library/Frameworks/Python.framework/Versions/3.6/lib/python3.6/site-packages/ipykernel_launcher.py:1: RuntimeWarning: overflow encountered in exp\n",
      "  \"\"\"Entry point for launching an IPython kernel.\n"
     ]
    }
   ],
   "source": [
    "bunshi = np.exp(a*bunshi)"
   ]
  },
  {
   "cell_type": "code",
   "execution_count": 85,
   "metadata": {},
   "outputs": [
    {
     "data": {
      "text/plain": [
       "array([[4.48168907e+00, 4.48168907e+00, 4.48168907e+00, ...,\n",
       "        4.48168907e+00, 4.48168907e+00, 4.48168907e+00],\n",
       "       [1.32592476e+01, 1.33039234e+01, 1.33492010e+01, ...,\n",
       "        2.86358295e+58, 1.08290618e+59, 4.15028275e+59],\n",
       "       [1.34820441e+01, 1.35320251e+01, 1.35827428e+01, ...,\n",
       "                   inf,            inf,            inf],\n",
       "       [3.00916893e+00, 3.02035266e+00, 3.03170192e+00, ...,\n",
       "                   inf,            inf,            inf]])"
      ]
     },
     "execution_count": 85,
     "metadata": {},
     "output_type": "execute_result"
    }
   ],
   "source": [
    "bunshi"
   ]
  },
  {
   "cell_type": "code",
   "execution_count": 86,
   "metadata": {},
   "outputs": [],
   "source": [
    "bunbo = bunshi.sum(axis=0)"
   ]
  },
  {
   "cell_type": "code",
   "execution_count": 87,
   "metadata": {},
   "outputs": [
    {
     "data": {
      "text/plain": [
       "array([3.42321000e+001, 3.43380000e+001, 3.44453000e+001, 3.45542000e+001,\n",
       "       3.46646000e+001, 3.47767000e+001, 3.48903000e+001, 3.50056000e+001,\n",
       "       3.51225000e+001, 3.52411000e+001, 3.53615000e+001, 3.54836000e+001,\n",
       "       3.56075000e+001, 3.57333000e+001, 3.58609000e+001, 3.59904000e+001,\n",
       "       3.61218000e+001, 3.62552000e+001, 3.63905000e+001, 3.65280000e+001,\n",
       "       3.66674000e+001, 3.68090000e+001, 3.69528000e+001, 3.70987000e+001,\n",
       "       3.72469000e+001, 3.73973000e+001, 3.75501000e+001, 3.77052000e+001,\n",
       "       3.78627000e+001, 3.80227000e+001, 3.81852000e+001, 3.83503000e+001,\n",
       "       3.85179000e+001, 3.86882000e+001, 3.88612000e+001, 3.90370000e+001,\n",
       "       3.92156000e+001, 3.93970000e+001, 3.95814000e+001, 3.97688000e+001,\n",
       "       3.99592000e+001, 4.01528000e+001, 4.03495000e+001, 4.05494000e+001,\n",
       "       4.07527000e+001, 4.09594000e+001, 4.11695000e+001, 4.13831000e+001,\n",
       "       4.16003000e+001, 4.18212000e+001, 4.20458000e+001, 4.22743000e+001,\n",
       "       4.25067000e+001, 4.27431000e+001, 4.29836000e+001, 4.32283000e+001,\n",
       "       4.34772000e+001, 4.37305000e+001, 4.39883000e+001, 4.42506000e+001,\n",
       "       4.45176000e+001, 4.47894000e+001, 4.50661000e+001, 4.53477000e+001,\n",
       "       4.56345000e+001, 4.59265000e+001, 4.62238000e+001, 4.65266000e+001,\n",
       "       4.68350000e+001, 4.71492000e+001, 4.74692000e+001, 4.77952000e+001,\n",
       "       4.81274000e+001, 4.84659000e+001, 4.88109000e+001, 4.91625000e+001,\n",
       "       4.95208000e+001, 4.98861000e+001, 5.02586000e+001, 5.06383000e+001,\n",
       "       5.10255000e+001, 5.14204000e+001, 5.18232000e+001, 5.22340000e+001,\n",
       "       5.26532000e+001, 5.30808000e+001, 5.35171000e+001, 5.39624000e+001,\n",
       "       5.44169000e+001, 5.48808000e+001, 5.53544000e+001, 5.58379000e+001,\n",
       "       5.63317000e+001, 5.68359000e+001, 5.73509000e+001, 5.78770000e+001,\n",
       "       5.84145000e+001, 5.89637000e+001, 5.95249000e+001, 6.00985000e+001,\n",
       "       6.06848000e+001, 6.12843000e+001, 6.18971000e+001, 6.25239000e+001,\n",
       "       6.31649000e+001, 6.38206000e+001, 6.44915000e+001, 6.51779000e+001,\n",
       "       6.58803000e+001, 6.65993000e+001, 6.73353000e+001, 6.80889000e+001,\n",
       "       6.88606000e+001, 6.96510000e+001, 7.04606000e+001, 7.12900000e+001,\n",
       "       7.21400000e+001, 7.30111000e+001, 7.39040000e+001, 7.48194000e+001,\n",
       "       7.57582000e+001, 7.67209000e+001, 7.77085000e+001, 7.87218000e+001,\n",
       "       7.97616000e+001, 8.08288000e+001, 8.19245000e+001, 8.30494000e+001,\n",
       "       8.42047000e+001, 8.53915000e+001, 8.66107000e+001, 8.78637000e+001,\n",
       "       8.91516000e+001, 9.04756000e+001, 9.18370000e+001, 9.32374000e+001,\n",
       "       9.46779000e+001, 9.61603000e+001, 9.76860000e+001, 9.92566000e+001,\n",
       "       1.00874000e+002, 1.02539800e+002, 1.04256000e+002, 1.06024400e+002,\n",
       "       1.07847300e+002, 1.09726700e+002, 1.11665000e+002, 1.13664400e+002,\n",
       "       1.15727400e+002, 1.17856800e+002, 1.20055200e+002, 1.22325500e+002,\n",
       "       1.24670700e+002, 1.27094000e+002, 1.29598900e+002, 1.32188700e+002,\n",
       "       1.34867200e+002, 1.37638300e+002, 1.40506200e+002, 1.43475100e+002,\n",
       "       1.46549600e+002, 1.49734600e+002, 1.53035100e+002, 1.56456500e+002,\n",
       "       1.60004500e+002, 1.63685000e+002, 1.67504500e+002, 1.71469600e+002,\n",
       "       1.75587300e+002, 1.79865300e+002, 1.84311400e+002, 1.88934200e+002,\n",
       "       1.93742500e+002, 1.98745800e+002, 2.03954200e+002, 2.09378300e+002,\n",
       "       2.15029700e+002, 2.20920300e+002, 2.27062900e+002, 2.33471300e+002,\n",
       "       2.40160100e+002, 2.47144700e+002, 2.54441800e+002, 2.62069000e+002,\n",
       "       2.70045200e+002, 2.78390500e+002, 2.87126400e+002, 2.96276100e+002,\n",
       "       3.05864100e+002, 3.15916900e+002, 3.26462800e+002, 3.37532200e+002,\n",
       "       3.49157600e+002, 3.61374100e+002, 3.74219200e+002, 3.87733500e+002,\n",
       "       4.01960400e+002, 4.16946800e+002, 4.32743300e+002, 4.49404500e+002,\n",
       "       4.66989100e+002, 4.85560800e+002, 5.05188300e+002, 5.25946100e+002,\n",
       "       5.47914700e+002, 5.71181500e+002, 5.95841300e+002, 6.21996900e+002,\n",
       "       6.49760100e+002, 6.79252600e+002, 7.10606700e+002, 7.43966800e+002,\n",
       "       7.79490200e+002, 8.17348700e+002, 8.57729900e+002, 9.00839300e+002,\n",
       "       9.46901500e+002, 9.96163000e+002, 1.04889410e+003, 1.10539170e+003,\n",
       "       1.16598210e+003, 1.23102450e+003, 1.30091470e+003, 1.37608910e+003,\n",
       "       1.45702980e+003, 1.54426950e+003, 1.63839810e+003, 1.74006900e+003,\n",
       "       1.85000710e+003, 1.96901770e+003, 2.09799640e+003, 2.23794030e+003,\n",
       "       2.38996130e+003, 2.55530080e+003, 2.73534640e+003, 2.93165160e+003,\n",
       "       3.14595760e+003, 3.38021900e+003, 3.63663330e+003, 3.91767400e+003,\n",
       "       4.22613000e+003, 4.56515040e+003, 4.93829610e+003, 5.34960070e+003,\n",
       "       5.80363980e+003, 6.30561260e+003, 6.86143680e+003, 7.47785890e+003,\n",
       "       8.16258400e+003, 8.92442680e+003, 9.77349020e+003, 1.07213746e+004,\n",
       "       1.17814241e+004, 1.29690187e+004, 1.43019191e+004, 1.58006757e+004,\n",
       "       1.74891159e+004, 1.93949232e+004, 2.15503300e+004, 2.39929464e+004,\n",
       "       2.67667550e+004, 2.99233073e+004, 3.35231665e+004, 3.76376520e+004,\n",
       "       4.23509548e+004, 4.77627072e+004, 5.39911166e+004, 6.11767953e+004,\n",
       "       6.94874546e+004, 7.91236774e+004, 9.03260358e+004, 1.03383897e+005,\n",
       "       1.18646348e+005, 1.36535805e+005, 1.57565001e+005, 1.82358291e+005,\n",
       "       2.11678443e+005, 2.46460458e+005, 2.87854421e+005, 3.37279993e+005,\n",
       "       3.96495980e+005, 4.67689492e+005, 5.53590677e+005, 6.57620985e+005,\n",
       "       7.84085541e+005, 9.38423867e+005, 1.12753808e+006, 1.36022447e+006,\n",
       "       1.64774361e+006, 2.00457713e+006, 2.44943704e+006, 3.00661866e+006,\n",
       "       3.70782325e+006, 4.59462621e+006, 5.72183709e+006, 7.16209855e+006,\n",
       "       9.01221566e+006, 1.14019158e+007, 1.45060427e+007, 1.85616289e+007,\n",
       "       2.38919450e+007, 3.09405791e+007, 4.03200351e+007, 5.28814722e+007,\n",
       "       6.98154339e+007, 9.27982944e+007, 1.24206610e+008, 1.67433009e+008,\n",
       "       2.27354985e+008, 3.11035554e+008, 4.28778074e+008, 5.95726006e+008,\n",
       "       8.34307475e+008, 1.17799949e+009, 1.67716976e+009, 2.40821530e+009,\n",
       "       3.48797509e+009, 5.09664983e+009, 7.51455961e+009, 1.11816051e+010,\n",
       "       1.67943059e+010, 2.54655936e+010, 3.89903665e+010, 6.02909625e+010,\n",
       "       9.41716281e+010, 1.48608865e+011, 2.36980416e+011, 3.81955162e+011,\n",
       "       6.22352710e+011, 1.02536947e+012, 1.70860840e+012, 2.88021842e+012,\n",
       "       4.91286934e+012, 8.48168265e+012, 1.48244988e+013, 2.62390185e+013,\n",
       "       4.70443385e+013, 8.54646242e+013, 1.57367889e+014, 2.93786981e+014,\n",
       "       5.56257947e+014, 1.06854386e+015, 2.08319915e+015, 4.12331146e+015,\n",
       "       8.28891717e+015, 1.69297288e+016, 3.51456744e+016, 7.41886641e+016,\n",
       "       1.59303809e+017, 3.48114392e+017, 7.74487632e+017, 1.75508626e+018,\n",
       "       4.05297667e+018, 9.54216908e+018, 2.29154728e+019, 5.61611977e+019,\n",
       "       1.40537667e+020, 3.59275021e+020, 9.38803022e+020, 2.50886178e+021,\n",
       "       6.86091360e+021, 1.92107793e+022, 5.51096406e+022, 1.62068478e+023,\n",
       "       4.88915707e+023, 1.51397058e+024, 4.81548595e+024, 1.57434951e+025,\n",
       "       5.29429036e+025, 1.83263294e+026, 6.53474252e+026, 2.40214749e+027,\n",
       "       9.11026597e+027, 3.56758191e+028, 1.44374087e+029, 6.04293166e+029,\n",
       "       2.61836456e+030, 1.17551402e+031, 5.47321820e+031, 2.64537925e+032,\n",
       "       1.32857985e+033, 6.94029391e+033, 3.77490878e+034, 2.14009811e+035,\n",
       "       1.26599624e+036, 7.82327425e+036, 5.05593401e+037, 3.42124361e+038,\n",
       "       2.42696540e+039, 1.80709897e+040, 1.41415112e+041, 1.16460166e+042,\n",
       "       1.01068240e+043, 9.25575874e+043, 8.95757488e+044, 9.17462417e+045,\n",
       "       9.96005142e+046, 1.14784865e+048, 1.40653481e+049, 1.83557230e+050,\n",
       "       2.55552345e+051, 3.80214117e+052, 6.05606089e+053, 1.03457291e+055,\n",
       "       1.89914589e+056, 3.75337754e+057, 8.00233538e+058, 1.84429292e+060,\n",
       "       4.60441728e+061, 1.24792842e+063, 3.67993239e+064, 1.18336095e+066,\n",
       "       4.15950654e+067, 1.60199895e+069, 6.77729919e+070, 3.15742956e+072,\n",
       "       1.62417597e+074, 9.24968336e+075, 5.84817148e+077, 4.11672535e+079,\n",
       "       3.23590975e+081, 2.84881216e+083, 2.81774329e+085, 3.14119344e+087,\n",
       "       3.95975496e+089, 5.66353318e+091, 9.22271557e+093, 1.71605784e+096,\n",
       "       3.66184799e+098, 8.99503472e+100, 2.55343618e+103, 8.41008285e+105,\n",
       "       3.22709316e+108, 1.44874640e+111, 7.64238392e+113, 4.75839776e+116,\n",
       "       3.51304114e+119, 3.08992917e+122, 3.25362481e+125, 4.12203164e+128,\n",
       "       6.31558318e+131, 1.17644392e+135, 2.67884629e+138, 7.49849446e+141,\n",
       "       2.59507978e+145, 1.11699216e+149, 6.01614906e+152, 4.08017145e+156,\n",
       "       3.50695476e+160, 3.84551893e+164, 5.41647571e+168, 9.86881616e+172,\n",
       "       2.34280922e+177, 7.30062439e+181, 3.00922719e+186, 1.65362990e+191,\n",
       "       1.22130774e+196, 1.22245238e+201, 1.67255313e+206, 3.15571428e+211,\n",
       "       8.28561166e+216, 3.05572290e+222, 1.59821991e+228, 1.19724697e+234,\n",
       "       1.29769134e+240, 2.05656915e+246, 4.81698248e+252, 1.68607888e+259,\n",
       "       8.92077685e+265, 7.21845224e+272, 9.04158975e+279, 1.77500613e+287,\n",
       "       5.53173277e+294, 2.77295123e+302,             inf,             inf,\n",
       "                   inf,             inf,             inf,             inf,\n",
       "                   inf,             inf,             inf,             inf,\n",
       "                   inf,             inf,             inf,             inf,\n",
       "                   inf,             inf,             inf,             inf,\n",
       "                   inf,             inf,             inf,             inf,\n",
       "                   inf,             inf,             inf,             inf,\n",
       "                   inf,             inf,             inf,             inf,\n",
       "                   inf,             inf,             inf,             inf,\n",
       "                   inf,             inf,             inf,             inf,\n",
       "                   inf,             inf,             inf,             inf,\n",
       "                   inf,             inf,             inf,             inf,\n",
       "                   inf,             inf,             inf,             inf,\n",
       "                   inf,             inf,             inf,             inf,\n",
       "                   inf,             inf,             inf,             inf,\n",
       "                   inf,             inf,             inf,             inf,\n",
       "                   inf,             inf,             inf,             inf,\n",
       "                   inf,             inf,             inf,             inf,\n",
       "                   inf,             inf,             inf,             inf,\n",
       "                   inf,             inf,             inf,             inf,\n",
       "                   inf,             inf,             inf,             inf,\n",
       "                   inf,             inf,             inf,             inf,\n",
       "                   inf,             inf,             inf,             inf,\n",
       "                   inf,             inf,             inf,             inf,\n",
       "                   inf,             inf,             inf,             inf,\n",
       "                   inf,             inf,             inf,             inf,\n",
       "                   inf,             inf,             inf,             inf,\n",
       "                   inf,             inf,             inf,             inf,\n",
       "                   inf,             inf,             inf,             inf,\n",
       "                   inf,             inf,             inf,             inf,\n",
       "                   inf,             inf,             inf,             inf,\n",
       "                   inf,             inf,             inf,             inf,\n",
       "                   inf])"
      ]
     },
     "execution_count": 87,
     "metadata": {},
     "output_type": "execute_result"
    }
   ],
   "source": [
    "np.round(bunbo, 4)"
   ]
  },
  {
   "cell_type": "code",
   "execution_count": 88,
   "metadata": {},
   "outputs": [
    {
     "name": "stderr",
     "output_type": "stream",
     "text": [
      "/Library/Frameworks/Python.framework/Versions/3.6/lib/python3.6/site-packages/ipykernel_launcher.py:1: RuntimeWarning: invalid value encountered in true_divide\n",
      "  \"\"\"Entry point for launching an IPython kernel.\n"
     ]
    }
   ],
   "source": [
    "cpc_pcm = bunshi / bunbo"
   ]
  },
  {
   "cell_type": "code",
   "execution_count": 89,
   "metadata": {},
   "outputs": [
    {
     "data": {
      "image/png": "[encoded data removed]",
      "text/plain": [
       "<Figure size 432x288 with 1 Axes>"
      ]
     },
     "metadata": {
      "needs_background": "light"
     },
     "output_type": "display_data"
    }
   ],
   "source": [
    "import numpy as np\n",
    "import matplotlib.pyplot as plt\n",
    "\n",
    "fig, ax = plt.subplots()\n",
    "\n",
    "t = x\n",
    "y1 = cpc_pcm[0] \n",
    "y2 = cpc_pcm[1] \n",
    "y3 =cpc_pcm[2] \n",
    "y4 =cpc_pcm[3] \n",
    "\n",
    "c1,c2,c3,c4 = \"blue\",\"green\",\"red\",\"black\"      # 各プロットの色\n",
    "l1,l2,l3,l4 = \"xj=0\",\"xj=1\",\"xj=2\",\"xj=3\"   # 各ラベル\n",
    "\n",
    "ax.set_xlabel('t')  # x軸ラベル\n",
    "ax.set_ylabel('y')  # y軸ラベル\n",
    "ax.set_title(r'PCM category prob curve') # グラフタイトル\n",
    "ax.grid()            # 罫線\n",
    "ax.plot(t, y1, color=c1, label=l1)\n",
    "ax.plot(t, y2, color=c2, label=l2)\n",
    "ax.plot(t, y3, color=c3, label=l3)\n",
    "ax.plot(t, y4, color=c4, label=l4)\n",
    "ax.legend(loc=0)    # 凡例\n",
    "fig.tight_layout()  # レイアウトの設定"
   ]
  },
  {
   "cell_type": "code",
   "execution_count": null,
   "metadata": {},
   "outputs": [],
   "source": []
  }
 ],
 "metadata": {
  "kernelspec": {
   "display_name": "Python 3",
   "language": "python",
   "name": "python3"
  },
  "language_info": {
   "codemirror_mode": {
    "name": "ipython",
    "version": 3
   },
   "file_extension": ".py",
   "mimetype": "text/x-python",
   "name": "python",
   "nbconvert_exporter": "python",
   "pygments_lexer": "ipython3",
   "version": "3.6.7"
  }
 },
 "nbformat": 4,
 "nbformat_minor": 2
}
