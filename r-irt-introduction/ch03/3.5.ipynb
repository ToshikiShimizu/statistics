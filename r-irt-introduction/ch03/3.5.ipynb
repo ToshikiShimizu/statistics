{
 "cells": [
  {
   "cell_type": "code",
   "execution_count": 6,
   "metadata": {},
   "outputs": [],
   "source": [
    "import numpy as np\n",
    "import pandas as pd"
   ]
  },
  {
   "cell_type": "code",
   "execution_count": 7,
   "metadata": {},
   "outputs": [],
   "source": [
    "test = pd.DataFrame(\n",
    "    [\n",
    "        [1,1,1,1,1,1,1,1,1,1,],\n",
    "        [1,1,1,1,1,1,1,0,0,1,],\n",
    "        [1,1,1,1,1,1,1,1,0,1,],\n",
    "        [1,1,1,1,1,1,1,1,1,1,],\n",
    "        [1,1,1,1,1,1,1,1,0,1,],\n",
    "        [1,1,1,1,1,1,1,1,0,1,],\n",
    "        [1,1,1,1,1,1,1,0,1,1,],\n",
    "        [0,1,1,0,1,1,0,0,1,1,],\n",
    "        [1,1,1,1,1,1,1,0,0,1,],\n",
    "        [1,1,0,1,0,1,1,0,0,1,],\n",
    "        [0,0,1,1,1,1,1,1,0,1,],\n",
    "        [1,1,1,0,1,1,1,0,0,0,],\n",
    "        [1,1,0,1,1,1,0,0,0,1,],\n",
    "        [0,1,1,0,1,0,1,1,0,0,],\n",
    "        [0,1,1,0,1,0,1,0,0,1,],\n",
    "        [1,1,0,0,1,0,1,0,0,0,],\n",
    "        [1,1,0,1,1,1,0,0,0,0,],\n",
    "        [0,1,0,0,1,1,0,0,0,0,],\n",
    "        [0,0,0,0,1,0,1,1,0,1,],\n",
    "        [0,0,0,0,0,1,0,0,0,1,],\n",
    "    ],\n",
    "    columns = ['q'+str(n) for n in range(1,11)],\n",
    "    index = ['Hasegawa','Honda', 'Uchikawa', 'Matsuda','LaHair','Yanagita','Yoshimura','Yamazaki','Imamiya','Pena','Settu','Yamada','Takeda','Ohtonari',\n",
    "            'Terahara','Higashihama','Senga','Iwasaki','Morifuku','Falkenborg']\n",
    ")"
   ]
  },
  {
   "cell_type": "code",
   "execution_count": 8,
   "metadata": {},
   "outputs": [
    {
     "data": {
      "text/plain": [
       "(20, 10)"
      ]
     },
     "execution_count": 8,
     "metadata": {},
     "output_type": "execute_result"
    }
   ],
   "source": [
    "test.shape"
   ]
  },
  {
   "cell_type": "code",
   "execution_count": 97,
   "metadata": {},
   "outputs": [],
   "source": [
    "class TestTheory:\n",
    "    def __init__(self, array):\n",
    "        self.array = array\n",
    "    def calculate_statistics(self):\n",
    "\n",
    "        '''\n",
    "        zscore\n",
    "        '''\n",
    "        sums = self.array.sum(axis=1)\n",
    "        self.zscore = (sums - sums.mean()) /  np.std(sums)\n",
    "        '''\n",
    "        偏差値\n",
    "        '''\n",
    "        self.hensachi = 10*self.zscore + 50\n",
    "        "
   ]
  },
  {
   "cell_type": "code",
   "execution_count": 98,
   "metadata": {},
   "outputs": [],
   "source": [
    "class CTT(TestTheory):\n",
    "    def fit(self):\n",
    "        '''\n",
    "        項目困難度 item difficulty\n",
    "        '''\n",
    "        self.item_difficulty = self.array.mean(axis=0)\n",
    "        '''\n",
    "        項目識別力 item discriminancy\n",
    "        '''\n",
    "        y_mean = self.array.mean(axis=1)   \n",
    "        item_discriminancy = []\n",
    "        \n",
    "        for y in self.array.T:\n",
    "            item_discriminancy.append(np.corrcoef(y_mean, y)[0][1])\n",
    "        self.item_discriminancy = np.array(item_discriminancy)\n",
    "        "
   ]
  },
  {
   "cell_type": "code",
   "execution_count": 99,
   "metadata": {},
   "outputs": [],
   "source": [
    "ctt = CTT(test.values)"
   ]
  },
  {
   "cell_type": "code",
   "execution_count": 100,
   "metadata": {},
   "outputs": [],
   "source": [
    "ctt.fit()"
   ]
  },
  {
   "cell_type": "code",
   "execution_count": 101,
   "metadata": {},
   "outputs": [
    {
     "data": {
      "text/plain": [
       "array([0.65, 0.85, 0.65, 0.6 , 0.9 , 0.8 , 0.75, 0.4 , 0.2 , 0.75])"
      ]
     },
     "execution_count": 101,
     "metadata": {},
     "output_type": "execute_result"
    }
   ],
   "source": [
    "ctt.item_difficulty"
   ]
  },
  {
   "cell_type": "code",
   "execution_count": 102,
   "metadata": {},
   "outputs": [
    {
     "data": {
      "text/plain": [
       "(10,)"
      ]
     },
     "execution_count": 102,
     "metadata": {},
     "output_type": "execute_result"
    }
   ],
   "source": [
    "ctt.item_discriminancy.shape"
   ]
  },
  {
   "cell_type": "code",
   "execution_count": 103,
   "metadata": {},
   "outputs": [
    {
     "data": {
      "text/plain": [
       "array([0.62784679, 0.40268102, 0.71851059, 0.76795935, 0.36757294,\n",
       "       0.44324972, 0.53678755, 0.46783731, 0.47568263, 0.48685383])"
      ]
     },
     "execution_count": 103,
     "metadata": {},
     "output_type": "execute_result"
    }
   ],
   "source": [
    "ctt.item_discriminancy"
   ]
  },
  {
   "cell_type": "code",
   "execution_count": 104,
   "metadata": {},
   "outputs": [],
   "source": [
    "ctt.calculate_statistics()"
   ]
  },
  {
   "cell_type": "code",
   "execution_count": 105,
   "metadata": {},
   "outputs": [
    {
     "data": {
      "text/plain": [
       "array([ 1.49191369,  0.62703619,  1.05947494,  1.49191369,  1.05947494,\n",
       "        1.05947494,  1.05947494, -0.23784131,  0.62703619, -0.23784131,\n",
       "        0.19459744, -0.23784131, -0.23784131, -0.67028006, -0.67028006,\n",
       "       -1.10271881, -0.67028006, -1.53515756, -1.10271881, -1.96759631])"
      ]
     },
     "execution_count": 105,
     "metadata": {},
     "output_type": "execute_result"
    }
   ],
   "source": [
    "ctt.zscore"
   ]
  },
  {
   "cell_type": "code",
   "execution_count": 106,
   "metadata": {},
   "outputs": [
    {
     "data": {
      "text/plain": [
       "array([64.91913688, 56.27036188, 60.59474938, 64.91913688, 60.59474938,\n",
       "       60.59474938, 60.59474938, 47.62158687, 56.27036188, 47.62158687,\n",
       "       51.94597438, 47.62158687, 47.62158687, 43.29719937, 43.29719937,\n",
       "       38.97281187, 43.29719937, 34.64842437, 38.97281187, 30.32403687])"
      ]
     },
     "execution_count": 106,
     "metadata": {},
     "output_type": "execute_result"
    }
   ],
   "source": [
    "ctt.hensachi"
   ]
  },
  {
   "cell_type": "code",
   "execution_count": null,
   "metadata": {},
   "outputs": [],
   "source": []
  }
 ],
 "metadata": {
  "kernelspec": {
   "display_name": "Python 3",
   "language": "python",
   "name": "python3"
  },
  "language_info": {
   "codemirror_mode": {
    "name": "ipython",
    "version": 3
   },
   "file_extension": ".py",
   "mimetype": "text/x-python",
   "name": "python",
   "nbconvert_exporter": "python",
   "pygments_lexer": "ipython3",
   "version": "3.6.7"
  }
 },
 "nbformat": 4,
 "nbformat_minor": 2
}
