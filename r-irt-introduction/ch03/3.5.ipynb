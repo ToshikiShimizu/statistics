{
 "cells": [
  {
   "cell_type": "code",
   "execution_count": 26,
   "metadata": {},
   "outputs": [],
   "source": [
    "import numpy as np\n",
    "import pandas as pd"
   ]
  },
  {
   "cell_type": "code",
   "execution_count": 112,
   "metadata": {},
   "outputs": [],
   "source": [
    "test = pd.DataFrame(\n",
    "    [\n",
    "        [1,1,1,1,1,1,1,1,1,1,],\n",
    "        [1,1,1,1,1,1,1,0,0,1,],\n",
    "        [1,1,1,1,1,1,1,1,0,1,],\n",
    "        [1,1,1,1,1,1,1,1,1,1,],\n",
    "        [1,1,1,1,1,1,1,1,0,1,],\n",
    "        [1,1,1,1,1,1,1,1,0,1,],\n",
    "        [1,1,1,1,1,1,1,0,1,1,],\n",
    "        [0,1,1,0,1,1,0,0,1,1,],\n",
    "        [1,1,1,1,1,1,1,0,0,1,],\n",
    "        [1,1,0,1,0,1,1,0,0,1,],\n",
    "        [0,0,1,1,1,1,1,1,0,1,],\n",
    "        [1,1,1,0,1,1,1,0,0,0,],\n",
    "        [1,1,0,1,1,1,0,0,0,1,],\n",
    "        [0,1,1,0,1,0,1,1,0,0,],\n",
    "        [0,1,1,0,1,0,1,0,0,1,],\n",
    "        [1,1,0,0,1,0,1,0,0,0,],\n",
    "        [1,1,0,1,1,1,0,0,0,0,],\n",
    "        [0,1,0,0,1,1,0,0,0,0,],\n",
    "        [0,0,0,0,1,0,1,1,0,1,],\n",
    "        [0,0,0,0,0,1,0,0,0,1,],\n",
    "    ],\n",
    "    columns = ['q'+str(n) for n in range(1,11)],\n",
    "    index = ['Hasegawa','Honda', 'Uchikawa', 'Matsuda','LaHair','Yanagita','Yoshimura','Yamazaki','Imamiya','Pena','Settu','Yamada','Takeda','Ohtonari',\n",
    "            'Terahara','Higashihama','Senga','Iwasaki','Morifuku','Falkenborg']\n",
    ")"
   ]
  },
  {
   "cell_type": "code",
   "execution_count": 113,
   "metadata": {},
   "outputs": [
    {
     "data": {
      "text/plain": [
       "(20, 10)"
      ]
     },
     "execution_count": 113,
     "metadata": {},
     "output_type": "execute_result"
    }
   ],
   "source": [
    "test.shape"
   ]
  },
  {
   "cell_type": "code",
   "execution_count": 119,
   "metadata": {},
   "outputs": [],
   "source": [
    "class CTT:\n",
    "    def __init__(self):\n",
    "        self.item_difficulty = None\n",
    "        self.item_discriminancy = None\n",
    "    def fit(self, array):\n",
    "        '''\n",
    "        項目困難度 item difficulty\n",
    "        '''\n",
    "        self.item_difficulty = array.mean(axis=0)\n",
    "        '''\n",
    "        項目識別力 item discriminancy\n",
    "        '''\n",
    "        y_mean = array.mean(axis=1)   \n",
    "        item_discriminancy = []\n",
    "        print(y_mean.shape)\n",
    "        \n",
    "        for y in array.T:\n",
    "            print(y.shape)\n",
    "            item_discriminancy.append(np.corrcoef(y_mean, y)[0][1])\n",
    "        self.item_discriminancy = np.array(item_discriminancy)\n",
    "        "
   ]
  },
  {
   "cell_type": "code",
   "execution_count": 120,
   "metadata": {},
   "outputs": [],
   "source": [
    "ctt = CTT()"
   ]
  },
  {
   "cell_type": "code",
   "execution_count": 121,
   "metadata": {},
   "outputs": [
    {
     "name": "stdout",
     "output_type": "stream",
     "text": [
      "(20,)\n",
      "(20,)\n",
      "(20,)\n",
      "(20,)\n",
      "(20,)\n",
      "(20,)\n",
      "(20,)\n",
      "(20,)\n",
      "(20,)\n",
      "(20,)\n",
      "(20,)\n"
     ]
    }
   ],
   "source": [
    "ctt.fit(test.values)"
   ]
  },
  {
   "cell_type": "code",
   "execution_count": 122,
   "metadata": {},
   "outputs": [
    {
     "data": {
      "text/plain": [
       "array([0.65, 0.85, 0.65, 0.6 , 0.9 , 0.8 , 0.75, 0.4 , 0.2 , 0.75])"
      ]
     },
     "execution_count": 122,
     "metadata": {},
     "output_type": "execute_result"
    }
   ],
   "source": [
    "ctt.item_difficulty"
   ]
  },
  {
   "cell_type": "code",
   "execution_count": 123,
   "metadata": {},
   "outputs": [
    {
     "data": {
      "text/plain": [
       "(10,)"
      ]
     },
     "execution_count": 123,
     "metadata": {},
     "output_type": "execute_result"
    }
   ],
   "source": [
    "ctt.item_discriminancy.shape"
   ]
  },
  {
   "cell_type": "code",
   "execution_count": 124,
   "metadata": {},
   "outputs": [
    {
     "data": {
      "text/plain": [
       "array([0.62784679, 0.40268102, 0.71851059, 0.76795935, 0.36757294,\n",
       "       0.44324972, 0.53678755, 0.46783731, 0.47568263, 0.48685383])"
      ]
     },
     "execution_count": 124,
     "metadata": {},
     "output_type": "execute_result"
    }
   ],
   "source": [
    "ctt.item_discriminancy"
   ]
  }
 ],
 "metadata": {
  "kernelspec": {
   "display_name": "Python 3",
   "language": "python",
   "name": "python3"
  },
  "language_info": {
   "codemirror_mode": {
    "name": "ipython",
    "version": 3
   },
   "file_extension": ".py",
   "mimetype": "text/x-python",
   "name": "python",
   "nbconvert_exporter": "python",
   "pygments_lexer": "ipython3",
   "version": "3.6.7"
  }
 },
 "nbformat": 4,
 "nbformat_minor": 2
}
