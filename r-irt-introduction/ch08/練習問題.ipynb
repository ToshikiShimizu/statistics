{
 "cells": [
  {
   "cell_type": "code",
   "execution_count": 1,
   "metadata": {},
   "outputs": [],
   "source": [
    "import numpy as np\n",
    "import matplotlib.pyplot as plt"
   ]
  },
  {
   "cell_type": "code",
   "execution_count": 37,
   "metadata": {},
   "outputs": [],
   "source": [
    "D = 1.7"
   ]
  },
  {
   "cell_type": "code",
   "execution_count": 38,
   "metadata": {},
   "outputs": [],
   "source": [
    "def icc2PL(a, b, theta):    \n",
    "    prob = 1/(1+np.exp(-D*a*(theta-b)))\n",
    "    return prob"
   ]
  },
  {
   "cell_type": "code",
   "execution_count": 39,
   "metadata": {},
   "outputs": [],
   "source": [
    "A = (1.0, 1.5, 0.7, 1.2)\n",
    "B = (1.5, 0.5, 0.0, -1.0)\n",
    "ir = [\n",
    "    [0,0,1,1],\n",
    "    [0,1,0,1],\n",
    "    [1,0,1,1],\n",
    "    [1,1,1,1],\n",
    "]\n",
    "U = ir[2]"
   ]
  },
  {
   "cell_type": "code",
   "execution_count": 40,
   "metadata": {},
   "outputs": [],
   "source": [
    "t0 = np.log(sum(U)/(len(U)-sum(U)))"
   ]
  },
  {
   "cell_type": "code",
   "execution_count": 41,
   "metadata": {},
   "outputs": [
    {
     "data": {
      "text/plain": [
       "1.0986122886681098"
      ]
     },
     "execution_count": 41,
     "metadata": {},
     "output_type": "execute_result"
    }
   ],
   "source": [
    "t0"
   ]
  },
  {
   "cell_type": "code",
   "execution_count": 42,
   "metadata": {},
   "outputs": [
    {
     "name": "stdout",
     "output_type": "stream",
     "text": [
      "0.3357349774023402\n",
      "0.8214879753649259\n",
      "0.7870691464401657\n",
      "0.9863620760816233\n"
     ]
    }
   ],
   "source": [
    "for a,b in zip(A,B):\n",
    "    print (icc2PL(a,b,t0))"
   ]
  },
  {
   "cell_type": "code",
   "execution_count": 43,
   "metadata": {},
   "outputs": [],
   "source": [
    "def LL(U,A,B,theta): # 対数尤度関数\n",
    "    sm = 0\n",
    "    for u,a,b in zip(U,A,B):\n",
    "        sm += (u*np.log(icc2PL(a,b,theta))+(1-u)*np.log(1-icc2PL(a,b,theta)))\n",
    "    return sm"
   ]
  },
  {
   "cell_type": "code",
   "execution_count": 44,
   "metadata": {},
   "outputs": [
    {
     "data": {
      "text/plain": [
       "-3.067703451414232"
      ]
     },
     "execution_count": 44,
     "metadata": {},
     "output_type": "execute_result"
    }
   ],
   "source": [
    "LL(u,A,B,t0)"
   ]
  },
  {
   "cell_type": "code",
   "execution_count": 45,
   "metadata": {},
   "outputs": [],
   "source": [
    "def dLL(U,A,B,theta): # LLの一次導関数\n",
    "    sm = 0\n",
    "    for u,a,b in zip(U,A,B):\n",
    "        sm += D*a*(u-icc2PL(a,b,theta))\n",
    "    return sm    "
   ]
  },
  {
   "cell_type": "code",
   "execution_count": 47,
   "metadata": {},
   "outputs": [
    {
     "data": {
      "text/plain": [
       "-0.6843347182348481"
      ]
     },
     "execution_count": 47,
     "metadata": {},
     "output_type": "execute_result"
    }
   ],
   "source": [
    "dLL(U,A,B,t0)"
   ]
  },
  {
   "cell_type": "code",
   "execution_count": 48,
   "metadata": {},
   "outputs": [],
   "source": [
    "def ddLL(A,B,theta):\n",
    "    sm = 0\n",
    "    for a,b in zip(A,B):\n",
    "        sm += -D**2 * (a**2 * icc2PL(a,b,theta)*(1-icc2PL(a,b,theta)))\n",
    "    return sm    "
   ]
  },
  {
   "cell_type": "code",
   "execution_count": 49,
   "metadata": {},
   "outputs": [
    {
     "data": {
      "text/plain": [
       "-1.8913889846008611"
      ]
     },
     "execution_count": 49,
     "metadata": {},
     "output_type": "execute_result"
    }
   ],
   "source": [
    "ddLL(A,B,t0)"
   ]
  },
  {
   "cell_type": "code",
   "execution_count": 52,
   "metadata": {},
   "outputs": [],
   "source": [
    "e = 1e-4\n",
    "conv = 0\n",
    "while(conv==0):\n",
    "    t1 = t0 - dLL(U,A,B,t0)/ddLL(A,B,t0)\n",
    "    if (abs(t1-t0)<e):\n",
    "        conv = 1\n",
    "    t0 = t1"
   ]
  },
  {
   "cell_type": "code",
   "execution_count": 53,
   "metadata": {},
   "outputs": [
    {
     "name": "stdout",
     "output_type": "stream",
     "text": [
      "0.776437984268933\n"
     ]
    }
   ],
   "source": [
    "print(t1)"
   ]
  },
  {
   "cell_type": "code",
   "execution_count": 56,
   "metadata": {},
   "outputs": [
    {
     "data": {
      "text/plain": [
       "-2.9535494010580607"
      ]
     },
     "execution_count": 56,
     "metadata": {},
     "output_type": "execute_result"
    }
   ],
   "source": [
    "LL(U,A,B,t1)"
   ]
  },
  {
   "cell_type": "code",
   "execution_count": 62,
   "metadata": {},
   "outputs": [],
   "source": [
    "def MLE(ir, A, B):\n",
    "    ans = []\n",
    "    for U in ir:\n",
    "        print(U)\n",
    "        try: # 最尤推定では全問正解/不正解の場合に能力推定値を正しく求められない\n",
    "            t0 = np.log(sum(U)/(len(U)-sum(U)))\n",
    "        except:\n",
    "            ans.append(np.nan)\n",
    "            continue\n",
    "        e = 1e-4\n",
    "        conv = 0\n",
    "        while(conv==0):\n",
    "            t1 = t0 - dLL(U,A,B,t0)/ddLL(A,B,t0)\n",
    "            if (abs(t1-t0)<e):\n",
    "                conv = 1\n",
    "            t0 = t1\n",
    "        ans.append(t1)\n",
    "    return ans"
   ]
  },
  {
   "cell_type": "code",
   "execution_count": 63,
   "metadata": {},
   "outputs": [
    {
     "name": "stdout",
     "output_type": "stream",
     "text": [
      "[0, 0, 1, 1]\n",
      "[0, 1, 0, 1]\n",
      "[1, 0, 1, 1]\n",
      "[1, 1, 1, 1]\n"
     ]
    },
    {
     "data": {
      "text/plain": [
       "[0.07044249667892975, 0.6351831574812188, 0.776437984268933, nan]"
      ]
     },
     "execution_count": 63,
     "metadata": {},
     "output_type": "execute_result"
    }
   ],
   "source": [
    "MLE(ir, A, B)"
   ]
  },
  {
   "cell_type": "code",
   "execution_count": 64,
   "metadata": {},
   "outputs": [],
   "source": [
    "def LG(U,A,B,theta,mu,sigma): # 対数事後分布\n",
    "    return LL(U,A,B,theta) - 1/2*((theta-mu)/sigma)**2"
   ]
  },
  {
   "cell_type": "code",
   "execution_count": 65,
   "metadata": {},
   "outputs": [],
   "source": [
    "def dLG(U,A,B,theta,mu,sigma): # 一次導関数\n",
    "    return dLL(U,A,B,theta) - (theta-mu)/sigma**2"
   ]
  },
  {
   "cell_type": "code",
   "execution_count": 72,
   "metadata": {},
   "outputs": [],
   "source": [
    "def ddLG(A,B,theta,sigma): # 二次導関数\n",
    "    return ddLL(A,B,theta) - 1/sigma**2"
   ]
  },
  {
   "cell_type": "code",
   "execution_count": 73,
   "metadata": {},
   "outputs": [],
   "source": [
    "def MAP(ir, A, B):\n",
    "    e = 1e-4\n",
    "    mu = 0\n",
    "    sigma = 1\n",
    "    ans = []\n",
    "    for U in ir:\n",
    "        print(U)\n",
    "        try: # 全問正解/不正解の場合はこの初期化は使えない\n",
    "            t0 = np.log(sum(U)/(len(U)-sum(U)))\n",
    "        except:\n",
    "            ans.append(np.nan)\n",
    "            continue\n",
    "        \n",
    "        conv = 0\n",
    "        while(conv==0):\n",
    "            t1 = t0 - dLG(U,A,B,t0,mu,sigma)/ddLG(A,B,t0,sigma)\n",
    "            if (abs(t1-t0)<e):\n",
    "                conv = 1\n",
    "            t0 = t1\n",
    "        ans.append(t1)\n",
    "    return ans"
   ]
  },
  {
   "cell_type": "code",
   "execution_count": 74,
   "metadata": {},
   "outputs": [
    {
     "name": "stdout",
     "output_type": "stream",
     "text": [
      "[0, 0, 1, 1]\n",
      "[0, 1, 0, 1]\n",
      "[1, 0, 1, 1]\n",
      "[1, 1, 1, 1]\n"
     ]
    },
    {
     "data": {
      "text/plain": [
       "[0.04811088923817803, 0.4534248452256026, 0.5504642571004835, nan]"
      ]
     },
     "execution_count": 74,
     "metadata": {},
     "output_type": "execute_result"
    }
   ],
   "source": [
    "MAP(ir, A, B)"
   ]
  },
  {
   "cell_type": "code",
   "execution_count": null,
   "metadata": {},
   "outputs": [],
   "source": []
  },
  {
   "cell_type": "code",
   "execution_count": 88,
   "metadata": {},
   "outputs": [],
   "source": [
    "import numpy as np\n",
    "from scipy.stats import norm\n",
    "Xm = np.linspace(-4,4,15)\n",
    "\n",
    "Wm = norm.pdf(Xm,0,1)\n",
    "Wm = Wm/sum(Wm)"
   ]
  },
  {
   "cell_type": "code",
   "execution_count": 90,
   "metadata": {},
   "outputs": [
    {
     "data": {
      "text/plain": [
       "array([-4.    , -3.4286, -2.8571, -2.2857, -1.7143, -1.1429, -0.5714,\n",
       "        0.    ,  0.5714,  1.1429,  1.7143,  2.2857,  2.8571,  3.4286,\n",
       "        4.    ])"
      ]
     },
     "execution_count": 90,
     "metadata": {},
     "output_type": "execute_result"
    }
   ],
   "source": [
    "np.round(Xm,4)"
   ]
  },
  {
   "cell_type": "code",
   "execution_count": 89,
   "metadata": {},
   "outputs": [
    {
     "data": {
      "text/plain": [
       "array([1.000e-04, 6.000e-04, 3.800e-03, 1.670e-02, 5.240e-02, 1.186e-01,\n",
       "       1.936e-01, 2.280e-01, 1.936e-01, 1.186e-01, 5.240e-02, 1.670e-02,\n",
       "       3.800e-03, 6.000e-04, 1.000e-04])"
      ]
     },
     "execution_count": 89,
     "metadata": {},
     "output_type": "execute_result"
    }
   ],
   "source": [
    "np.round(Wm,4)"
   ]
  },
  {
   "cell_type": "code",
   "execution_count": 110,
   "metadata": {},
   "outputs": [],
   "source": [
    "def L(U,A,B,theta):\n",
    "    prod = 1\n",
    "    for u,a,b in zip(U,A,B):\n",
    "        prod *= (icc2PL(a,b,theta)**u * (1-icc2PL(a,b,theta))**(1-u))\n",
    "    return prod"
   ]
  },
  {
   "cell_type": "code",
   "execution_count": 111,
   "metadata": {},
   "outputs": [
    {
     "data": {
      "text/plain": [
       "1.1428571428571423"
      ]
     },
     "execution_count": 111,
     "metadata": {},
     "output_type": "execute_result"
    }
   ],
   "source": [
    "Xm[9]"
   ]
  },
  {
   "cell_type": "code",
   "execution_count": 128,
   "metadata": {},
   "outputs": [
    {
     "name": "stdout",
     "output_type": "stream",
     "text": [
      "[0, 0, 1, 1]\n",
      "0.0093134\n",
      "[0, 1, 0, 1]\n",
      "0.4515764\n",
      "[1, 0, 1, 1]\n",
      "0.5612238\n",
      "[1, 1, 1, 1]\n",
      "1.4769317\n"
     ]
    }
   ],
   "source": [
    "for U in ir:\n",
    "    print(U)\n",
    "    Lm = []\n",
    "    for xm in Xm:\n",
    "        lm =  L(U,A,B,xm)\n",
    "        Lm.append(lm)\n",
    "        #print(np.round(lm,4))\n",
    "    Lm = np.array(Lm)\n",
    "    Gm = Lm * Wm / sum(Lm*Wm)\n",
    "    eap_theta = sum(Xm*Gm)\n",
    "    print(np.round(eap_theta,7))"
   ]
  },
  {
   "cell_type": "code",
   "execution_count": 166,
   "metadata": {},
   "outputs": [],
   "source": [
    "# 8.2.2"
   ]
  },
  {
   "cell_type": "code",
   "execution_count": 167,
   "metadata": {},
   "outputs": [],
   "source": [
    "import pandas as pd"
   ]
  },
  {
   "cell_type": "code",
   "execution_count": 168,
   "metadata": {},
   "outputs": [],
   "source": [
    "data_EM = pd.DataFrame(\n",
    "    [\n",
    "        [1,1,1,1,18],\n",
    "        [1,1,1,0,1],\n",
    "        [1,1,0,1,7],\n",
    "        [1,1,0,0,1],\n",
    "        [1,0,1,1,4],\n",
    "        [1,0,1,0,1],\n",
    "        [1,0,0,1,4],\n",
    "        [1,0,0,0,1],\n",
    "        [0,1,1,1,31],\n",
    "        [0,1,1,0,1],\n",
    "        [0,1,0,1,17],\n",
    "        [0,1,0,0,1],\n",
    "        [0,0,1,1,35],\n",
    "        [0,0,1,0,6],\n",
    "        [0,0,0,1,42],\n",
    "        [0,0,0,0,30],\n",
    "    ],\n",
    "    columns = ['1','2','3','4','人数']\n",
    ")"
   ]
  },
  {
   "cell_type": "code",
   "execution_count": null,
   "metadata": {},
   "outputs": [],
   "source": []
  }
 ],
 "metadata": {
  "kernelspec": {
   "display_name": "Python 3",
   "language": "python",
   "name": "python3"
  },
  "language_info": {
   "codemirror_mode": {
    "name": "ipython",
    "version": 3
   },
   "file_extension": ".py",
   "mimetype": "text/x-python",
   "name": "python",
   "nbconvert_exporter": "python",
   "pygments_lexer": "ipython3",
   "version": "3.6.7"
  }
 },
 "nbformat": 4,
 "nbformat_minor": 2
}
