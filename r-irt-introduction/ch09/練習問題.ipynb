{
 "cells": [
  {
   "cell_type": "code",
   "execution_count": 1,
   "metadata": {},
   "outputs": [],
   "source": [
    "import numpy as np\n",
    "import matplotlib.pyplot as plt"
   ]
  },
  {
   "cell_type": "code",
   "execution_count": 2,
   "metadata": {},
   "outputs": [],
   "source": [
    "D = 1.7"
   ]
  },
  {
   "cell_type": "code",
   "execution_count": 3,
   "metadata": {},
   "outputs": [],
   "source": [
    "def icc2PL(a, b, theta):    \n",
    "    prob = 1/(1+np.exp(-D*a*(theta-b)))\n",
    "    return prob"
   ]
  },
  {
   "cell_type": "code",
   "execution_count": 4,
   "metadata": {},
   "outputs": [],
   "source": [
    "def LL(U,A,B,theta): # 対数尤度関数\n",
    "    sm = 0\n",
    "    for u,a,b in zip(U,A,B):\n",
    "        sm += (u*np.log(icc2PL(a,b,theta))+(1-u)*np.log(1-icc2PL(a,b,theta)))\n",
    "    return sm"
   ]
  },
  {
   "cell_type": "code",
   "execution_count": 5,
   "metadata": {},
   "outputs": [],
   "source": [
    "A = [1,1.5,0.7,1.2]\n",
    "B = [1.5,0.5,0,-1]\n",
    "U = [1,0,1,1]\n",
    "t1 = 0.776438"
   ]
  },
  {
   "cell_type": "code",
   "execution_count": 6,
   "metadata": {},
   "outputs": [],
   "source": [
    "def E3(A,B,theta):\n",
    "    sm = 0\n",
    "    for a, b in zip(A, B):\n",
    "        sm += icc2PL(a,b,theta)*np.log(icc2PL(a,b,theta))+(1-icc2PL(a,b,theta))*np.log(1-icc2PL(a,b,theta))\n",
    "    return sm"
   ]
  },
  {
   "cell_type": "code",
   "execution_count": 7,
   "metadata": {},
   "outputs": [
    {
     "name": "stdout",
     "output_type": "stream",
     "text": [
      "-1.8866235136414162\n"
     ]
    }
   ],
   "source": [
    "print (E3(A,B,t1))"
   ]
  },
  {
   "cell_type": "code",
   "execution_count": 8,
   "metadata": {},
   "outputs": [],
   "source": [
    "def S3(A,B,theta):\n",
    "    sm = 0\n",
    "    for a,b in zip(A,B):\n",
    "        sm += icc2PL(a,b,theta)*(1-icc2PL(a,b,theta))*np.log(icc2PL(a,b,theta)/(1-icc2PL(a,b,theta)))**2\n",
    "    return np.sqrt(sm)"
   ]
  },
  {
   "cell_type": "code",
   "execution_count": 9,
   "metadata": {},
   "outputs": [
    {
     "name": "stdout",
     "output_type": "stream",
     "text": [
      "0.9385258596535893\n"
     ]
    }
   ],
   "source": [
    "print (S3(A,B,t1))"
   ]
  },
  {
   "cell_type": "code",
   "execution_count": 10,
   "metadata": {},
   "outputs": [
    {
     "data": {
      "text/plain": [
       "-2.953549401058061"
      ]
     },
     "execution_count": 10,
     "metadata": {},
     "output_type": "execute_result"
    }
   ],
   "source": [
    "LL(U,A,B,t1)"
   ]
  },
  {
   "cell_type": "code",
   "execution_count": 11,
   "metadata": {},
   "outputs": [
    {
     "data": {
      "text/plain": [
       "-1.1368103248752766"
      ]
     },
     "execution_count": 11,
     "metadata": {},
     "output_type": "execute_result"
    }
   ],
   "source": [
    "(LL(U,A,B,t1)-E3(A,B,t1))/S3(A,B,t1)"
   ]
  },
  {
   "cell_type": "code",
   "execution_count": null,
   "metadata": {},
   "outputs": [],
   "source": []
  }
 ],
 "metadata": {
  "kernelspec": {
   "display_name": "Python 3",
   "language": "python",
   "name": "python3"
  },
  "language_info": {
   "codemirror_mode": {
    "name": "ipython",
    "version": 3
   },
   "file_extension": ".py",
   "mimetype": "text/x-python",
   "name": "python",
   "nbconvert_exporter": "python",
   "pygments_lexer": "ipython3",
   "version": "3.6.7"
  }
 },
 "nbformat": 4,
 "nbformat_minor": 2
}
