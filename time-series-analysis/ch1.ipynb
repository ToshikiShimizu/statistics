{
 "cells": [
  {
   "cell_type": "code",
   "execution_count": 1,
   "metadata": {},
   "outputs": [],
   "source": [
    "import matplotlib.pyplot as plt\n",
    "import numpy as np\n",
    "import pandas as pd"
   ]
  },
  {
   "cell_type": "code",
   "execution_count": 3,
   "metadata": {},
   "outputs": [],
   "source": [
    "df_historical = pd.read_csv('input/m_quote.csv',skiprows=1)"
   ]
  },
  {
   "cell_type": "code",
   "execution_count": 6,
   "metadata": {},
   "outputs": [
    {
     "data": {
      "text/html": [
       "<div>\n",
       "<style scoped>\n",
       "    .dataframe tbody tr th:only-of-type {\n",
       "        vertical-align: middle;\n",
       "    }\n",
       "\n",
       "    .dataframe tbody tr th {\n",
       "        vertical-align: top;\n",
       "    }\n",
       "\n",
       "    .dataframe thead th {\n",
       "        text-align: right;\n",
       "    }\n",
       "</style>\n",
       "<table border=\"1\" class=\"dataframe\">\n",
       "  <thead>\n",
       "    <tr style=\"text-align: right;\">\n",
       "      <th></th>\n",
       "      <th>Unnamed: 0</th>\n",
       "      <th>USD</th>\n",
       "      <th>GBP</th>\n",
       "      <th>EUR</th>\n",
       "      <th>CAD</th>\n",
       "      <th>CHF</th>\n",
       "      <th>SEK</th>\n",
       "      <th>DKK</th>\n",
       "      <th>NOK</th>\n",
       "      <th>AUD</th>\n",
       "      <th>...</th>\n",
       "      <th>HUF</th>\n",
       "      <th>CZK</th>\n",
       "      <th>PLN</th>\n",
       "      <th>RUB</th>\n",
       "      <th>TRY</th>\n",
       "      <th>IDR(100).1</th>\n",
       "      <th>CNY.1</th>\n",
       "      <th>MYR.1</th>\n",
       "      <th>KRW(100).1</th>\n",
       "      <th>TWD</th>\n",
       "    </tr>\n",
       "  </thead>\n",
       "  <tbody>\n",
       "    <tr>\n",
       "      <th>0</th>\n",
       "      <td>2002/4/30</td>\n",
       "      <td>131.15</td>\n",
       "      <td>189.01</td>\n",
       "      <td>115.97</td>\n",
       "      <td>82.83</td>\n",
       "      <td>79.13</td>\n",
       "      <td>12.73</td>\n",
       "      <td>15.61</td>\n",
       "      <td>15.20</td>\n",
       "      <td>70.24</td>\n",
       "      <td>...</td>\n",
       "      <td>*****</td>\n",
       "      <td>*****</td>\n",
       "      <td>*****</td>\n",
       "      <td>NaN</td>\n",
       "      <td>NaN</td>\n",
       "      <td>1.39</td>\n",
       "      <td>15.84</td>\n",
       "      <td>*****</td>\n",
       "      <td>9.99</td>\n",
       "      <td>3.77</td>\n",
       "    </tr>\n",
       "    <tr>\n",
       "      <th>1</th>\n",
       "      <td>2002/5/31</td>\n",
       "      <td>126.44</td>\n",
       "      <td>184.56</td>\n",
       "      <td>115.88</td>\n",
       "      <td>81.58</td>\n",
       "      <td>79.60</td>\n",
       "      <td>12.57</td>\n",
       "      <td>15.59</td>\n",
       "      <td>15.43</td>\n",
       "      <td>69.58</td>\n",
       "      <td>...</td>\n",
       "      <td>*****</td>\n",
       "      <td>*****</td>\n",
       "      <td>*****</td>\n",
       "      <td>NaN</td>\n",
       "      <td>NaN</td>\n",
       "      <td>1.41</td>\n",
       "      <td>15.28</td>\n",
       "      <td>*****</td>\n",
       "      <td>10.10</td>\n",
       "      <td>3.68</td>\n",
       "    </tr>\n",
       "    <tr>\n",
       "      <th>2</th>\n",
       "      <td>2002/6/28</td>\n",
       "      <td>123.53</td>\n",
       "      <td>183.00</td>\n",
       "      <td>117.83</td>\n",
       "      <td>80.64</td>\n",
       "      <td>80.09</td>\n",
       "      <td>12.94</td>\n",
       "      <td>15.86</td>\n",
       "      <td>15.92</td>\n",
       "      <td>70.29</td>\n",
       "      <td>...</td>\n",
       "      <td>*****</td>\n",
       "      <td>*****</td>\n",
       "      <td>*****</td>\n",
       "      <td>NaN</td>\n",
       "      <td>NaN</td>\n",
       "      <td>1.44</td>\n",
       "      <td>14.93</td>\n",
       "      <td>*****</td>\n",
       "      <td>10.20</td>\n",
       "      <td>3.66</td>\n",
       "    </tr>\n",
       "    <tr>\n",
       "      <th>3</th>\n",
       "      <td>2002/7/31</td>\n",
       "      <td>118.05</td>\n",
       "      <td>183.64</td>\n",
       "      <td>117.23</td>\n",
       "      <td>76.52</td>\n",
       "      <td>80.16</td>\n",
       "      <td>12.67</td>\n",
       "      <td>15.79</td>\n",
       "      <td>15.83</td>\n",
       "      <td>65.42</td>\n",
       "      <td>...</td>\n",
       "      <td>*****</td>\n",
       "      <td>*****</td>\n",
       "      <td>*****</td>\n",
       "      <td>NaN</td>\n",
       "      <td>NaN</td>\n",
       "      <td>1.34</td>\n",
       "      <td>14.26</td>\n",
       "      <td>*****</td>\n",
       "      <td>9.98</td>\n",
       "      <td>3.56</td>\n",
       "    </tr>\n",
       "    <tr>\n",
       "      <th>4</th>\n",
       "      <td>2002/8/30</td>\n",
       "      <td>119.08</td>\n",
       "      <td>183.14</td>\n",
       "      <td>116.45</td>\n",
       "      <td>75.85</td>\n",
       "      <td>79.60</td>\n",
       "      <td>12.59</td>\n",
       "      <td>15.69</td>\n",
       "      <td>15.68</td>\n",
       "      <td>64.47</td>\n",
       "      <td>...</td>\n",
       "      <td>*****</td>\n",
       "      <td>*****</td>\n",
       "      <td>*****</td>\n",
       "      <td>NaN</td>\n",
       "      <td>NaN</td>\n",
       "      <td>1.35</td>\n",
       "      <td>14.39</td>\n",
       "      <td>*****</td>\n",
       "      <td>9.97</td>\n",
       "      <td>3.53</td>\n",
       "    </tr>\n",
       "  </tbody>\n",
       "</table>\n",
       "<p>5 rows × 37 columns</p>\n",
       "</div>"
      ],
      "text/plain": [
       "  Unnamed: 0     USD     GBP     EUR    CAD    CHF    SEK    DKK    NOK  \\\n",
       "0  2002/4/30  131.15  189.01  115.97  82.83  79.13  12.73  15.61  15.20   \n",
       "1  2002/5/31  126.44  184.56  115.88  81.58  79.60  12.57  15.59  15.43   \n",
       "2  2002/6/28  123.53  183.00  117.83  80.64  80.09  12.94  15.86  15.92   \n",
       "3  2002/7/31  118.05  183.64  117.23  76.52  80.16  12.67  15.79  15.83   \n",
       "4  2002/8/30  119.08  183.14  116.45  75.85  79.60  12.59  15.69  15.68   \n",
       "\n",
       "     AUD  ...     HUF    CZK    PLN RUB TRY  IDR(100).1  CNY.1  MYR.1  \\\n",
       "0  70.24  ...   *****  *****  ***** NaN NaN        1.39  15.84  *****   \n",
       "1  69.58  ...   *****  *****  ***** NaN NaN        1.41  15.28  *****   \n",
       "2  70.29  ...   *****  *****  ***** NaN NaN        1.44  14.93  *****   \n",
       "3  65.42  ...   *****  *****  ***** NaN NaN        1.34  14.26  *****   \n",
       "4  64.47  ...   *****  *****  ***** NaN NaN        1.35  14.39  *****   \n",
       "\n",
       "   KRW(100).1   TWD  \n",
       "0        9.99  3.77  \n",
       "1       10.10  3.68  \n",
       "2       10.20  3.66  \n",
       "3        9.98  3.56  \n",
       "4        9.97  3.53  \n",
       "\n",
       "[5 rows x 37 columns]"
      ]
     },
     "execution_count": 6,
     "metadata": {},
     "output_type": "execute_result"
    }
   ],
   "source": [
    "df_historical.head()"
   ]
  },
  {
   "cell_type": "code",
   "execution_count": 7,
   "metadata": {},
   "outputs": [
    {
     "data": {
      "text/plain": [
       "<matplotlib.axes._subplots.AxesSubplot at 0x7f9e601b3c88>"
      ]
     },
     "execution_count": 7,
     "metadata": {},
     "output_type": "execute_result"
    },
    {
     "data": {
      "image/png": "[encoded data removed]",
      "text/plain": [
       "<Figure size 432x288 with 1 Axes>"
      ]
     },
     "metadata": {
      "needs_background": "light"
     },
     "output_type": "display_data"
    }
   ],
   "source": [
    "df_historical.USD.plot()"
   ]
  },
  {
   "cell_type": "code",
   "execution_count": 8,
   "metadata": {},
   "outputs": [
    {
     "data": {
      "text/plain": [
       "0             NaN\n",
       "1             NaN\n",
       "2             NaN\n",
       "3             NaN\n",
       "4             NaN\n",
       "5             NaN\n",
       "6             NaN\n",
       "7             NaN\n",
       "8             NaN\n",
       "9             NaN\n",
       "10            NaN\n",
       "11            NaN\n",
       "12            NaN\n",
       "13            NaN\n",
       "14            NaN\n",
       "15            NaN\n",
       "16            NaN\n",
       "17            NaN\n",
       "18            NaN\n",
       "19            NaN\n",
       "20            NaN\n",
       "21            NaN\n",
       "22            NaN\n",
       "23     117.507917\n",
       "24     116.517083\n",
       "25     115.934167\n",
       "26     115.348750\n",
       "27     114.988333\n",
       "28     114.626667\n",
       "29     114.188750\n",
       "          ...    \n",
       "194    109.741250\n",
       "195    110.049583\n",
       "196    110.455833\n",
       "197    110.869583\n",
       "198    111.245417\n",
       "199    111.457917\n",
       "200    111.313333\n",
       "201    111.072500\n",
       "202    110.959167\n",
       "203    110.883750\n",
       "204    110.950833\n",
       "205    110.850833\n",
       "206    110.734167\n",
       "207    110.561250\n",
       "208    110.410833\n",
       "209    110.273333\n",
       "210    110.072917\n",
       "211    109.904167\n",
       "212    109.745833\n",
       "213    109.684583\n",
       "214    109.768750\n",
       "215    109.829583\n",
       "216    109.851250\n",
       "217    109.751250\n",
       "218    109.647917\n",
       "219    109.458333\n",
       "220    109.248333\n",
       "221    108.992083\n",
       "222    108.677500\n",
       "223    108.304167\n",
       "Name: USD, Length: 224, dtype: float64"
      ]
     },
     "execution_count": 8,
     "metadata": {},
     "output_type": "execute_result"
    }
   ],
   "source": [
    "df_historical.USD.rolling(24).mean()"
   ]
  },
  {
   "cell_type": "code",
   "execution_count": 15,
   "metadata": {},
   "outputs": [],
   "source": [
    "df_ice = pd.read_csv('input/icecream.csv', skiprows=2,header=None)\n",
    "df_ice.columns = ['year', 'month', 'expenditure_yen']"
   ]
  },
  {
   "cell_type": "code",
   "execution_count": 17,
   "metadata": {},
   "outputs": [
    {
     "data": {
      "text/plain": [
       "<matplotlib.axes._subplots.AxesSubplot at 0x7f9e5d9ddda0>"
      ]
     },
     "execution_count": 17,
     "metadata": {},
     "output_type": "execute_result"
    },
    {
     "data": {
      "image/png": "[encoded data removed]",
      "text/plain": [
       "<Figure size 432x288 with 1 Axes>"
      ]
     },
     "metadata": {
      "needs_background": "light"
     },
     "output_type": "display_data"
    }
   ],
   "source": [
    "df_ice.expenditure_yen.plot()"
   ]
  },
  {
   "cell_type": "code",
   "execution_count": 16,
   "metadata": {},
   "outputs": [],
   "source": [
    "df_ma = df_ice.expenditure_yen.rolling(window=12).mean().shift(-6)\n",
    "df_cma = df_ma.rolling(window=2).mean()"
   ]
  },
  {
   "cell_type": "code",
   "execution_count": 18,
   "metadata": {},
   "outputs": [],
   "source": [
    "ma24 = df_historical.USD.rolling(24).mean()\n",
    "diff_ma24 = (df_historical.USD - ma24) / ma24 * 100"
   ]
  },
  {
   "cell_type": "code",
   "execution_count": 20,
   "metadata": {},
   "outputs": [
    {
     "data": {
      "text/plain": [
       "<matplotlib.axes._subplots.AxesSubplot at 0x7f9e6060f518>"
      ]
     },
     "execution_count": 20,
     "metadata": {},
     "output_type": "execute_result"
    },
    {
     "data": {
      "image/png": "[encoded data removed]",
      "text/plain": [
       "<Figure size 432x288 with 1 Axes>"
      ]
     },
     "metadata": {
      "needs_background": "light"
     },
     "output_type": "display_data"
    }
   ],
   "source": [
    "diff_ma24.plot.hist()"
   ]
  },
  {
   "cell_type": "code",
   "execution_count": null,
   "metadata": {},
   "outputs": [],
   "source": []
  }
 ],
 "metadata": {
  "kernelspec": {
   "display_name": "Python 3",
   "language": "python",
   "name": "python3"
  },
  "language_info": {
   "codemirror_mode": {
    "name": "ipython",
    "version": 3
   },
   "file_extension": ".py",
   "mimetype": "text/x-python",
   "name": "python",
   "nbconvert_exporter": "python",
   "pygments_lexer": "ipython3",
   "version": "3.6.7"
  }
 },
 "nbformat": 4,
 "nbformat_minor": 2
}
